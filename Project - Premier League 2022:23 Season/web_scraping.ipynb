{
 "cells": [
  {
   "cell_type": "code",
   "execution_count": null,
   "metadata": {},
   "outputs": [],
   "source": [
    "# base_url = 'https://uk.indeed.com/jobs?q=%22data+analyst%22+%C2%A325%2C000&l=United+Kingdom'\n",
    "# other_pages = [10,20,30,40,50,60,70,80,90,100,110,120,130,140]\n",
    "\n",
    "# def generate_urls(page_numbers):\n",
    "#     page_urls = [base_url + f'&start={page}' for page in page_numbers ]\n",
    "#     return page_urls\n",
    "\n",
    "# page_urls = generate_urls(other_pages)\n",
    "\n",
    "# page_urls"
   ]
  },
  {
   "cell_type": "code",
   "execution_count": 9,
   "metadata": {},
   "outputs": [
    {
     "name": "stdout",
     "output_type": "stream",
     "text": [
      "https://fbref.com/en/comps/9/2022-2023/schedule/2022-2023-Premier-League-Scores-and-Fixtures works\n"
     ]
    }
   ],
   "source": [
    "from bs4 import BeautifulSoup\n",
    "import requests\n",
    "import csv\n",
    "\n",
    "url = \"https://fbref.com/en/comps/9/2022-2023/schedule/2022-2023-Premier-League-Scores-and-Fixtures\"\n",
    "\n",
    "response = requests.get(url)\n",
    "\n",
    "# checking to see if i get a successful response\n",
    "if response.status_code == 200:\n",
    "    print(f\"{url} works\")\n",
    "\n",
    "    html_content = response.content\n",
    "    soup = BeautifulSoup(html_content, \"html.parser\")\n",
    "\n",
    "    prem2223_data = []\n",
    "\n",
    "    prem2223_items = soup.find_all(\"tr\", class_=\"\")\n",
    "\n",
    "    current_gameweek = None\n",
    "\n",
    "    for item in prem2223_items:\n",
    "        columns = item.find_all(\"td\")\n",
    "\n",
    "        # to get rid of list index range errors\n",
    "        if len(columns) == 0:\n",
    "            continue\n",
    "        \n",
    "        # at first gameweek was shown as appearing once every few days just like the website. this checks to see if it is the same as the value before it. if not then it updates it with the new value and keeps going\n",
    "        gameweek = item.find(\"th\", {\"data-stat\": \"gameweek\"})\n",
    "        if gameweek:\n",
    "            current_gameweek = gameweek.text.strip()\n",
    "            \n",
    "        dayofweek = item.find(\"td\", {\"data-stat\": \"dayofweek\"}).text.strip()\n",
    "        date = item.find(\"td\", {\"data-stat\": \"date\"}).text.strip()\n",
    "        start_time = item.find(\"td\", {\"data-stat\": \"start_time\"}).text.strip()\n",
    "        home_team = item.find(\"td\", {\"data-stat\": \"home_team\"}).text.strip()\n",
    "        home_xg = item.find(\"td\", {\"data-stat\": \"home_xg\"}).text.strip()\n",
    "        score = item.find(\"td\", {\"data-stat\": \"score\"}).text.strip()\n",
    "        away_xg = item.find(\"td\", {\"data-stat\": \"away_xg\"}).text.strip()\n",
    "        away_team = item.find(\"td\", {\"data-stat\": \"away_team\"}).text.strip()\n",
    "        attendance = item.find(\"td\", {\"data-stat\": \"attendance\"}).text.strip()\n",
    "        venue = item.find(\"td\", {\"data-stat\": \"venue\"}).text.strip()\n",
    "        referee = item.find(\"td\", {\"data-stat\": \"referee\"}).text.strip()\n",
    "\n",
    "        prem2223_data.append({\n",
    "                \"Gameweek\": current_gameweek,\n",
    "                \"Day of the Week\": dayofweek,\n",
    "                \"Date\": date,\n",
    "                \"Start Time\": start_time,\n",
    "                \"Home Team\": home_team,\n",
    "                \"Home xG\": home_xg,\n",
    "                \"Score\": score,\n",
    "                \"Away xG\": away_xg,\n",
    "                \"Away Team\": away_team,\n",
    "                \"Attendance\": attendance,\n",
    "                \"Venue\": venue,\n",
    "                \"Referee\": referee,\n",
    "        })\n",
    "\n",
    "else:\n",
    "    print(\"error:\", response.status_code)"
   ]
  },
  {
   "cell_type": "code",
   "execution_count": 10,
   "metadata": {},
   "outputs": [
    {
     "name": "stdout",
     "output_type": "stream",
     "text": [
      "Data has been exported to prem2223.csv\n"
     ]
    }
   ],
   "source": [
    "csv_file = 'prem2223.csv'\n",
    "csv_columns = prem2223_data[0].keys()\n",
    "\n",
    "with open(csv_file, 'w', newline='', encoding='utf-8-sig') as csvfile:\n",
    "    writer = csv.DictWriter(csvfile, fieldnames=csv_columns)\n",
    "    writer.writeheader()\n",
    "    writer.writerows(prem2223_data)\n",
    "\n",
    "print(f'Data has been exported to {csv_file}')"
   ]
  }
 ],
 "metadata": {
  "kernelspec": {
   "display_name": "Python 3",
   "language": "python",
   "name": "python3"
  },
  "language_info": {
   "codemirror_mode": {
    "name": "ipython",
    "version": 3
   },
   "file_extension": ".py",
   "mimetype": "text/x-python",
   "name": "python",
   "nbconvert_exporter": "python",
   "pygments_lexer": "ipython3",
   "version": "3.11.4"
  },
  "orig_nbformat": 4
 },
 "nbformat": 4,
 "nbformat_minor": 2
}
