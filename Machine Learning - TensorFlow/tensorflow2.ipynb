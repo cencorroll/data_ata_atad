{
 "cells": [
  {
   "cell_type": "code",
   "execution_count": 6,
   "metadata": {},
   "outputs": [],
   "source": [
    "import tensorflow as tf\n",
    "from tensorflow import keras\n",
    "import numpy as np"
   ]
  },
  {
   "cell_type": "code",
   "execution_count": 2,
   "metadata": {},
   "outputs": [],
   "source": [
    "fashion_mnist = tf.keras.datasets.fashion_mnist\n",
    "(train_images, train_labels), (test_images, test_labels) = fashion_mnist.load_data()"
   ]
  },
  {
   "cell_type": "code",
   "execution_count": 3,
   "metadata": {},
   "outputs": [],
   "source": [
    "model = keras.Sequential(\n",
    "    [\n",
    "        keras.layers.Flatten(input_shape=(28, 28)),\n",
    "        keras.layers.Dense(128, activation=tf.nn.relu),\n",
    "        keras.layers.Dense(10, activation=tf.nn.softmax),\n",
    "    ]\n",
    ")"
   ]
  },
  {
   "cell_type": "code",
   "execution_count": 5,
   "metadata": {},
   "outputs": [
    {
     "name": "stdout",
     "output_type": "stream",
     "text": [
      "Epoch 1/10\n",
      "1875/1875 [==============================] - 2s 815us/step - loss: 0.4782\n",
      "Epoch 2/10\n",
      "1875/1875 [==============================] - 1s 796us/step - loss: 0.3587\n",
      "Epoch 3/10\n",
      "1875/1875 [==============================] - 2s 881us/step - loss: 0.3224\n",
      "Epoch 4/10\n",
      "1875/1875 [==============================] - 2s 879us/step - loss: 0.2978\n",
      "Epoch 5/10\n",
      "1875/1875 [==============================] - 1s 793us/step - loss: 0.2805\n",
      "Epoch 6/10\n",
      "1875/1875 [==============================] - 2s 800us/step - loss: 0.2657\n",
      "Epoch 7/10\n",
      "1875/1875 [==============================] - 2s 801us/step - loss: 0.2523\n",
      "Epoch 8/10\n",
      "1875/1875 [==============================] - 2s 808us/step - loss: 0.2413\n",
      "Epoch 9/10\n",
      "1875/1875 [==============================] - 2s 805us/step - loss: 0.2319\n",
      "Epoch 10/10\n",
      "1875/1875 [==============================] - 2s 849us/step - loss: 0.2211\n"
     ]
    },
    {
     "data": {
      "text/plain": [
       "<keras.src.callbacks.History at 0x150ac9e10>"
      ]
     },
     "execution_count": 5,
     "metadata": {},
     "output_type": "execute_result"
    }
   ],
   "source": [
    "mnist = tf.keras.datasets.fashion_mnist\n",
    "\n",
    "(training_images, training_labels), (test_images, test_labels) = mnist.load_data()\n",
    "\n",
    "training_images = training_images / 255.0\n",
    "\n",
    "test_images = test_images / 255.0\n",
    "\n",
    "model = tf.keras.models.Sequential(\n",
    "    [\n",
    "        tf.keras.layers.Flatten(),\n",
    "        tf.keras.layers.Dense(512, activation=tf.nn.relu),\n",
    "        tf.keras.layers.Dense(10, activation=tf.nn.softmax),\n",
    "    ]\n",
    ")\n",
    "\n",
    "model.compile(optimizer=tf.optimizers.legacy.Adam(), loss=\"sparse_categorical_crossentropy\")\n",
    "\n",
    "model.fit(training_images, training_labels, epochs=10)"
   ]
  },
  {
   "cell_type": "code",
   "execution_count": null,
   "metadata": {},
   "outputs": [],
   "source": []
  }
 ],
 "metadata": {
  "kernelspec": {
   "display_name": "Python 3",
   "language": "python",
   "name": "python3"
  },
  "language_info": {
   "codemirror_mode": {
    "name": "ipython",
    "version": 3
   },
   "file_extension": ".py",
   "mimetype": "text/x-python",
   "name": "python",
   "nbconvert_exporter": "python",
   "pygments_lexer": "ipython3",
   "version": "3.11.4"
  },
  "orig_nbformat": 4
 },
 "nbformat": 4,
 "nbformat_minor": 2
}
